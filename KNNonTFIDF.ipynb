{
 "cells": [
  {
   "cell_type": "markdown",
   "id": "b7dfde98",
   "metadata": {},
   "source": [
    "## Assignment 2  - DSC 478\n",
    "### Kevin Thompson\n",
    "##### Part A"
   ]
  },
  {
   "cell_type": "code",
   "execution_count": 496,
   "id": "989a3db0",
   "metadata": {},
   "outputs": [],
   "source": [
    "#load libraries libraries\n",
    "import numpy as np\n",
    "import pandas as pd\n",
    "from matplotlib import pyplot as plt"
   ]
  },
  {
   "cell_type": "code",
   "execution_count": 497,
   "id": "f4b70360",
   "metadata": {},
   "outputs": [],
   "source": [
    "#import data\n",
    "train = pd.read_table('C:/Users/19148/Downloads/trainMatrixModified.txt',header = None)\n",
    "train_lab = pd.read_table('C:/Users/19148/Downloads/trainClasses.txt',header = None,index_col = 0)\n",
    "test = pd.read_table('C:/Users/19148/Downloads/testMatrixModified.txt',header = None)\n",
    "test_lab = pd.read_table('C:/Users/19148/Downloads/testClasses.txt',header = None, index_col = 0)\n",
    "terms = pd.read_table('C:/Users/19148/Downloads/modifiedterms.txt',header = None)"
   ]
  },
  {
   "cell_type": "code",
   "execution_count": 498,
   "id": "b0ab0ae0",
   "metadata": {},
   "outputs": [],
   "source": [
    "#converting from TD to DT matrix\n",
    "DT_train = train.T\n",
    "DT_test = test.T"
   ]
  },
  {
   "cell_type": "code",
   "execution_count": 499,
   "id": "16cdcd92",
   "metadata": {},
   "outputs": [
    {
     "data": {
      "text/html": [
       "<div>\n",
       "<style scoped>\n",
       "    .dataframe tbody tr th:only-of-type {\n",
       "        vertical-align: middle;\n",
       "    }\n",
       "\n",
       "    .dataframe tbody tr th {\n",
       "        vertical-align: top;\n",
       "    }\n",
       "\n",
       "    .dataframe thead th {\n",
       "        text-align: right;\n",
       "    }\n",
       "</style>\n",
       "<table border=\"1\" class=\"dataframe\">\n",
       "  <thead>\n",
       "    <tr style=\"text-align: right;\">\n",
       "      <th></th>\n",
       "      <th>0</th>\n",
       "      <th>1</th>\n",
       "      <th>2</th>\n",
       "      <th>3</th>\n",
       "      <th>4</th>\n",
       "      <th>5</th>\n",
       "      <th>6</th>\n",
       "      <th>7</th>\n",
       "      <th>8</th>\n",
       "      <th>9</th>\n",
       "      <th>...</th>\n",
       "      <th>5490</th>\n",
       "      <th>5491</th>\n",
       "      <th>5492</th>\n",
       "      <th>5493</th>\n",
       "      <th>5494</th>\n",
       "      <th>5495</th>\n",
       "      <th>5496</th>\n",
       "      <th>5497</th>\n",
       "      <th>5498</th>\n",
       "      <th>5499</th>\n",
       "    </tr>\n",
       "  </thead>\n",
       "  <tbody>\n",
       "    <tr>\n",
       "      <th>0</th>\n",
       "      <td>2.0</td>\n",
       "      <td>2.0</td>\n",
       "      <td>2.0</td>\n",
       "      <td>1.0</td>\n",
       "      <td>8.0</td>\n",
       "      <td>6.0</td>\n",
       "      <td>2.0</td>\n",
       "      <td>8.0</td>\n",
       "      <td>2.0</td>\n",
       "      <td>4.0</td>\n",
       "      <td>...</td>\n",
       "      <td>0.0</td>\n",
       "      <td>0.0</td>\n",
       "      <td>0.0</td>\n",
       "      <td>0.0</td>\n",
       "      <td>0.0</td>\n",
       "      <td>0.0</td>\n",
       "      <td>0.0</td>\n",
       "      <td>0.0</td>\n",
       "      <td>0.0</td>\n",
       "      <td>0.0</td>\n",
       "    </tr>\n",
       "    <tr>\n",
       "      <th>1</th>\n",
       "      <td>0.0</td>\n",
       "      <td>0.0</td>\n",
       "      <td>0.0</td>\n",
       "      <td>1.0</td>\n",
       "      <td>1.0</td>\n",
       "      <td>0.0</td>\n",
       "      <td>0.0</td>\n",
       "      <td>0.0</td>\n",
       "      <td>0.0</td>\n",
       "      <td>0.0</td>\n",
       "      <td>...</td>\n",
       "      <td>0.0</td>\n",
       "      <td>0.0</td>\n",
       "      <td>0.0</td>\n",
       "      <td>0.0</td>\n",
       "      <td>0.0</td>\n",
       "      <td>0.0</td>\n",
       "      <td>0.0</td>\n",
       "      <td>0.0</td>\n",
       "      <td>0.0</td>\n",
       "      <td>0.0</td>\n",
       "    </tr>\n",
       "    <tr>\n",
       "      <th>2</th>\n",
       "      <td>0.0</td>\n",
       "      <td>0.0</td>\n",
       "      <td>0.0</td>\n",
       "      <td>1.0</td>\n",
       "      <td>0.0</td>\n",
       "      <td>0.0</td>\n",
       "      <td>0.0</td>\n",
       "      <td>2.0</td>\n",
       "      <td>0.0</td>\n",
       "      <td>1.0</td>\n",
       "      <td>...</td>\n",
       "      <td>0.0</td>\n",
       "      <td>0.0</td>\n",
       "      <td>0.0</td>\n",
       "      <td>0.0</td>\n",
       "      <td>0.0</td>\n",
       "      <td>0.0</td>\n",
       "      <td>0.0</td>\n",
       "      <td>0.0</td>\n",
       "      <td>0.0</td>\n",
       "      <td>0.0</td>\n",
       "    </tr>\n",
       "    <tr>\n",
       "      <th>3</th>\n",
       "      <td>2.0</td>\n",
       "      <td>0.0</td>\n",
       "      <td>0.0</td>\n",
       "      <td>1.0</td>\n",
       "      <td>0.0</td>\n",
       "      <td>0.0</td>\n",
       "      <td>0.0</td>\n",
       "      <td>0.0</td>\n",
       "      <td>0.0</td>\n",
       "      <td>0.0</td>\n",
       "      <td>...</td>\n",
       "      <td>0.0</td>\n",
       "      <td>0.0</td>\n",
       "      <td>0.0</td>\n",
       "      <td>0.0</td>\n",
       "      <td>0.0</td>\n",
       "      <td>0.0</td>\n",
       "      <td>0.0</td>\n",
       "      <td>0.0</td>\n",
       "      <td>0.0</td>\n",
       "      <td>0.0</td>\n",
       "    </tr>\n",
       "    <tr>\n",
       "      <th>4</th>\n",
       "      <td>2.0</td>\n",
       "      <td>0.0</td>\n",
       "      <td>0.0</td>\n",
       "      <td>1.0</td>\n",
       "      <td>0.0</td>\n",
       "      <td>0.0</td>\n",
       "      <td>0.0</td>\n",
       "      <td>0.0</td>\n",
       "      <td>0.0</td>\n",
       "      <td>0.0</td>\n",
       "      <td>...</td>\n",
       "      <td>0.0</td>\n",
       "      <td>0.0</td>\n",
       "      <td>0.0</td>\n",
       "      <td>0.0</td>\n",
       "      <td>0.0</td>\n",
       "      <td>0.0</td>\n",
       "      <td>0.0</td>\n",
       "      <td>0.0</td>\n",
       "      <td>0.0</td>\n",
       "      <td>0.0</td>\n",
       "    </tr>\n",
       "  </tbody>\n",
       "</table>\n",
       "<p>5 rows × 5500 columns</p>\n",
       "</div>"
      ],
      "text/plain": [
       "   0     1     2     3     4     5     6     7     8     9     ...  5490  \\\n",
       "0   2.0   2.0   2.0   1.0   8.0   6.0   2.0   8.0   2.0   4.0  ...   0.0   \n",
       "1   0.0   0.0   0.0   1.0   1.0   0.0   0.0   0.0   0.0   0.0  ...   0.0   \n",
       "2   0.0   0.0   0.0   1.0   0.0   0.0   0.0   2.0   0.0   1.0  ...   0.0   \n",
       "3   2.0   0.0   0.0   1.0   0.0   0.0   0.0   0.0   0.0   0.0  ...   0.0   \n",
       "4   2.0   0.0   0.0   1.0   0.0   0.0   0.0   0.0   0.0   0.0  ...   0.0   \n",
       "\n",
       "   5491  5492  5493  5494  5495  5496  5497  5498  5499  \n",
       "0   0.0   0.0   0.0   0.0   0.0   0.0   0.0   0.0   0.0  \n",
       "1   0.0   0.0   0.0   0.0   0.0   0.0   0.0   0.0   0.0  \n",
       "2   0.0   0.0   0.0   0.0   0.0   0.0   0.0   0.0   0.0  \n",
       "3   0.0   0.0   0.0   0.0   0.0   0.0   0.0   0.0   0.0  \n",
       "4   0.0   0.0   0.0   0.0   0.0   0.0   0.0   0.0   0.0  \n",
       "\n",
       "[5 rows x 5500 columns]"
      ]
     },
     "execution_count": 499,
     "metadata": {},
     "output_type": "execute_result"
    }
   ],
   "source": [
    "DT_train.head()"
   ]
  },
  {
   "cell_type": "code",
   "execution_count": 500,
   "id": "bdee8765",
   "metadata": {},
   "outputs": [
    {
     "data": {
      "text/plain": [
       "array([0, 1, 0, 1, 0, 1, 1, 1, 1, 1, 1, 0, 0, 1, 1, 1, 0, 0, 1, 0, 0, 1, 0, 1, 1, 0, 1, 1, 1, 1, 1, 0, 1, 1, 1, 0, 1,\n",
       "       0, 0, 0, 0, 0, 1, 0, 0, 0, 0, 1, 0, 0, 0, 0, 1, 0, 0, 0, 1, 1, 1, 0, 0, 1, 0, 1, 1, 1, 1, 1, 1, 1, 0, 0, 0, 1,\n",
       "       0, 1, 0, 1, 1, 1, 1, 0, 0, 0, 1, 1, 0, 0, 1, 1, 1, 1, 1, 0, 0, 1, 1, 0, 0, 1, 1, 1, 0, 1, 0, 1, 0, 0, 1, 1, 1,\n",
       "       0, 1, 1, 0, 1, 1, 0, 1, 0, 0, 0, 0, 0, 0, 0, 1, 0, 0, 1, 1, 1, 0, 0, 1, 1, 0, 1, 1, 1, 0, 0, 1, 0, 1, 1, 1, 1,\n",
       "       0, 0, 1, 0, 1, 0, 1, 0, 0, 1, 0, 0, 1, 1, 1, 0, 1, 1, 0, 1, 1, 1, 1, 0, 1, 0, 1, 0, 1, 0, 1, 1, 0, 0, 1, 0, 0,\n",
       "       1, 1, 0, 0, 0, 0, 0, 1, 1, 1, 1, 0, 0, 0, 0, 1, 1, 1, 1, 1, 0, 1, 0, 1, 0, 0, 0, 0, 0, 0, 1, 1, 1, 0, 1, 1, 1,\n",
       "       0, 1, 1, 1, 0, 0, 1, 0, 1, 1, 1, 0, 1, 1, 0, 0, 1, 0, 0, 0, 1, 0, 0, 1, 1, 1, 1, 0, 1, 1, 1, 1, 1, 0, 0, 1, 0,\n",
       "       1, 0, 0, 1, 0, 1, 1, 1, 1, 1, 0, 0, 0, 0, 0, 0, 0, 0, 1, 0, 1, 1, 0, 0, 0, 0, 1, 0, 0, 1, 0, 1, 1, 0, 0, 0, 1,\n",
       "       0, 1, 1, 1, 0, 1, 1, 1, 0, 1, 0, 0, 1, 1, 0, 0, 1, 1, 0, 0, 1, 1, 1, 1, 1, 1, 1, 0, 1, 0, 0, 0, 1, 0, 1, 0, 0,\n",
       "       0, 0, 0, 1, 0, 0, 0, 0, 0, 0, 1, 1, 1, 1, 1, 1, 1, 0, 1, 0, 1, 1, 0, 1, 0, 1, 0, 1, 0, 1, 1, 1, 0, 1, 0, 0, 0,\n",
       "       0, 1, 1, 1, 1, 1, 0, 1, 0, 0, 0, 0, 0, 0, 0, 0, 1, 1, 1, 0, 1, 1, 0, 0, 0, 0, 0, 1, 0, 0, 0, 1, 0, 0, 1, 1, 0,\n",
       "       0, 0, 1, 0, 1, 0, 1, 1, 0, 1, 0, 1, 1, 0, 0, 0, 0, 0, 0, 1, 1, 1, 1, 0, 0, 1, 0, 1, 0, 0, 1, 0, 0, 1, 1, 0, 1,\n",
       "       0, 0, 1, 0, 1, 0, 0, 0, 1, 0, 0, 1, 0, 1, 0, 1, 0, 0, 0, 1, 1, 1, 0, 0, 0, 0, 0, 1, 1, 1, 1, 1, 0, 1, 1, 1, 0,\n",
       "       0, 0, 1, 1, 0, 0, 1, 0, 0, 1, 0, 1, 0, 1, 1, 0, 1, 0, 0, 1, 1, 1, 0, 1, 1, 0, 0, 1, 1, 1, 0, 1, 0, 1, 1, 0, 0,\n",
       "       0, 0, 0, 0, 1, 0, 0, 1, 1, 1, 1, 0, 1, 1, 1, 1, 0, 0, 1, 1, 1, 1, 0, 1, 1, 1, 0, 0, 1, 1, 1, 1, 0, 0, 1, 0, 0,\n",
       "       0, 1, 1, 1, 0, 0, 0, 0, 0, 1, 0, 1, 0, 1, 1, 1, 1, 1, 1, 0, 0, 1, 1, 1, 0, 1, 1, 0, 0, 0, 0, 1, 0, 0, 1, 1, 1,\n",
       "       1, 0, 0, 0, 1, 0, 0, 1, 0, 1, 1, 0, 0, 1, 0, 1, 0, 0, 0, 0, 0, 0, 1, 0, 1, 0, 1, 0, 1, 0, 1, 0, 0, 0, 0, 0, 1,\n",
       "       1, 1, 1, 1, 0, 0, 1, 1, 0, 0, 1, 0, 0, 0, 1, 0, 0, 1, 1, 0, 1, 1, 0, 1, 1, 0, 0, 0, 1, 0, 1, 0, 0, 0, 0, 1, 1,\n",
       "       1, 1, 0, 0, 0, 1, 1, 0, 0, 1, 1, 0, 1, 1, 1, 1, 0, 0, 1, 1, 0, 1, 0, 1, 0, 0, 1, 0, 1, 0, 0, 1, 0, 1, 0, 1, 0,\n",
       "       1, 0, 1, 1, 0, 0, 0, 1, 0, 0, 0, 1, 1, 0, 0, 1, 1, 0, 1, 0, 0, 1, 0, 0, 0, 0, 0, 1, 1, 1, 0, 1, 1, 0, 0, 1, 0,\n",
       "       1, 0, 1, 1, 1, 1, 0, 1, 0, 1, 0, 1, 0, 0, 0, 0, 1, 0, 1, 0, 0, 0, 1, 1, 0, 1, 0, 0, 1, 1, 1, 0, 0, 0, 1, 0, 1,\n",
       "       1, 0, 0, 0, 0, 0, 1, 0, 0, 1, 1, 1, 1, 0, 1, 1, 0, 1, 0, 1, 1, 1, 1], dtype=int64)"
      ]
     },
     "execution_count": 500,
     "metadata": {},
     "output_type": "execute_result"
    }
   ],
   "source": [
    "np.array(train_lab).flatten()"
   ]
  },
  {
   "cell_type": "code",
   "execution_count": 501,
   "id": "02153055",
   "metadata": {},
   "outputs": [
    {
     "name": "stdout",
     "output_type": "stream",
     "text": [
      "5500\n",
      "800\n"
     ]
    }
   ],
   "source": [
    "#terms #this is the dataframe of the terms\n",
    "# train #this is the dataframe with words as objects, document as column\n",
    "train.shape\n",
    "numTerms = train.shape[0]\n",
    "NDocs = train.shape[1]\n",
    "print(numTerms)\n",
    "print(NDocs)"
   ]
  },
  {
   "cell_type": "code",
   "execution_count": 502,
   "id": "dd85a6e6",
   "metadata": {
    "scrolled": false
   },
   "outputs": [
    {
     "data": {
      "image/png": "[encoded data removed]",
      "text/plain": [
       "<Figure size 640x480 with 1 Axes>"
      ]
     },
     "metadata": {},
     "output_type": "display_data"
    }
   ],
   "source": [
    "termFreqs = train.sum(axis = 1) #this will count the frequency of terms or sum up the values in the rows\n",
    "#DT_train.sum(axis = 0) # could use this after we transpose the dataframe\n",
    "\n",
    "plt.plot(sorted(termFreqs, reverse = True)) #this will give us our distribution\n",
    "plt.show()"
   ]
  },
  {
   "cell_type": "markdown",
   "id": "0d3b4e2c",
   "metadata": {},
   "source": [
    "This is the shape we expect to see in a corpus which is a good sign"
   ]
  },
  {
   "cell_type": "markdown",
   "id": "0a6d5578",
   "metadata": {},
   "source": [
    "### Transform data to TFXIDF Weights"
   ]
  },
  {
   "cell_type": "code",
   "execution_count": 503,
   "id": "c6f62b9b",
   "metadata": {},
   "outputs": [
    {
     "data": {
      "text/html": [
       "<div>\n",
       "<style scoped>\n",
       "    .dataframe tbody tr th:only-of-type {\n",
       "        vertical-align: middle;\n",
       "    }\n",
       "\n",
       "    .dataframe tbody tr th {\n",
       "        vertical-align: top;\n",
       "    }\n",
       "\n",
       "    .dataframe thead th {\n",
       "        text-align: right;\n",
       "    }\n",
       "</style>\n",
       "<table border=\"1\" class=\"dataframe\">\n",
       "  <thead>\n",
       "    <tr style=\"text-align: right;\">\n",
       "      <th></th>\n",
       "      <th>0</th>\n",
       "    </tr>\n",
       "  </thead>\n",
       "  <tbody>\n",
       "    <tr>\n",
       "      <th>0</th>\n",
       "      <td>50</td>\n",
       "    </tr>\n",
       "    <tr>\n",
       "      <th>1</th>\n",
       "      <td>7</td>\n",
       "    </tr>\n",
       "    <tr>\n",
       "      <th>2</th>\n",
       "      <td>10</td>\n",
       "    </tr>\n",
       "    <tr>\n",
       "      <th>3</th>\n",
       "      <td>800</td>\n",
       "    </tr>\n",
       "    <tr>\n",
       "      <th>4</th>\n",
       "      <td>108</td>\n",
       "    </tr>\n",
       "    <tr>\n",
       "      <th>...</th>\n",
       "      <td>...</td>\n",
       "    </tr>\n",
       "    <tr>\n",
       "      <th>5495</th>\n",
       "      <td>3</td>\n",
       "    </tr>\n",
       "    <tr>\n",
       "      <th>5496</th>\n",
       "      <td>3</td>\n",
       "    </tr>\n",
       "    <tr>\n",
       "      <th>5497</th>\n",
       "      <td>2</td>\n",
       "    </tr>\n",
       "    <tr>\n",
       "      <th>5498</th>\n",
       "      <td>2</td>\n",
       "    </tr>\n",
       "    <tr>\n",
       "      <th>5499</th>\n",
       "      <td>2</td>\n",
       "    </tr>\n",
       "  </tbody>\n",
       "</table>\n",
       "<p>5500 rows × 1 columns</p>\n",
       "</div>"
      ],
      "text/plain": [
       "        0\n",
       "0      50\n",
       "1       7\n",
       "2      10\n",
       "3     800\n",
       "4     108\n",
       "...   ...\n",
       "5495    3\n",
       "5496    3\n",
       "5497    2\n",
       "5498    2\n",
       "5499    2\n",
       "\n",
       "[5500 rows x 1 columns]"
      ]
     },
     "execution_count": 503,
     "metadata": {},
     "output_type": "execute_result"
    }
   ],
   "source": [
    "DF = pd.DataFrame([(train!=0).sum(1)]).T #transpose so we get 1 column rather than 1 row\n",
    "DF"
   ]
  },
  {
   "cell_type": "code",
   "execution_count": 504,
   "id": "f9d3a54d",
   "metadata": {},
   "outputs": [
    {
     "name": "stdout",
     "output_type": "stream",
     "text": [
      "[[800. 800. 800. ... 800. 800. 800.]\n",
      " [800. 800. 800. ... 800. 800. 800.]\n",
      " [800. 800. 800. ... 800. 800. 800.]\n",
      " ...\n",
      " [800. 800. 800. ... 800. 800. 800.]\n",
      " [800. 800. 800. ... 800. 800. 800.]\n",
      " [800. 800. 800. ... 800. 800. 800.]]\n"
     ]
    }
   ],
   "source": [
    "#create a matrix with all entries = NDocs\n",
    "NMatrix = np.ones(np.shape(train), dtype = float)*NDocs\n",
    "np.set_printoptions(precision=2,suppress=True,linewidth=120)\n",
    "print(NMatrix)"
   ]
  },
  {
   "cell_type": "code",
   "execution_count": 505,
   "id": "b6409364",
   "metadata": {},
   "outputs": [
    {
     "name": "stdout",
     "output_type": "stream",
     "text": [
      "[[4.   4.   4.   ... 4.   4.   4.  ]\n",
      " [6.84 6.84 6.84 ... 6.84 6.84 6.84]\n",
      " [6.32 6.32 6.32 ... 6.32 6.32 6.32]\n",
      " ...\n",
      " [8.64 8.64 8.64 ... 8.64 8.64 8.64]\n",
      " [8.64 8.64 8.64 ... 8.64 8.64 8.64]\n",
      " [8.64 8.64 8.64 ... 8.64 8.64 8.64]]\n"
     ]
    }
   ],
   "source": [
    "# Convert each entry into IDF values\n",
    "# IDF is the log of the inverse of document frequency\n",
    "# Note that IDF is only a function of the term, so all columns will be identical.\n",
    "\n",
    "IDF = np.log2(np.divide(NMatrix, np.array(DF)))\n",
    "print(IDF)"
   ]
  },
  {
   "cell_type": "code",
   "execution_count": 506,
   "id": "58e51dcb",
   "metadata": {
    "scrolled": true
   },
   "outputs": [
    {
     "data": {
      "text/html": [
       "<div>\n",
       "<style scoped>\n",
       "    .dataframe tbody tr th:only-of-type {\n",
       "        vertical-align: middle;\n",
       "    }\n",
       "\n",
       "    .dataframe tbody tr th {\n",
       "        vertical-align: top;\n",
       "    }\n",
       "\n",
       "    .dataframe thead th {\n",
       "        text-align: right;\n",
       "    }\n",
       "</style>\n",
       "<table border=\"1\" class=\"dataframe\">\n",
       "  <thead>\n",
       "    <tr style=\"text-align: right;\">\n",
       "      <th></th>\n",
       "      <th>0</th>\n",
       "      <th>1</th>\n",
       "      <th>2</th>\n",
       "      <th>3</th>\n",
       "      <th>4</th>\n",
       "      <th>5</th>\n",
       "      <th>6</th>\n",
       "      <th>7</th>\n",
       "      <th>8</th>\n",
       "      <th>9</th>\n",
       "      <th>...</th>\n",
       "      <th>790</th>\n",
       "      <th>791</th>\n",
       "      <th>792</th>\n",
       "      <th>793</th>\n",
       "      <th>794</th>\n",
       "      <th>795</th>\n",
       "      <th>796</th>\n",
       "      <th>797</th>\n",
       "      <th>798</th>\n",
       "      <th>799</th>\n",
       "    </tr>\n",
       "  </thead>\n",
       "  <tbody>\n",
       "    <tr>\n",
       "      <th>0</th>\n",
       "      <td>8.00</td>\n",
       "      <td>0.00</td>\n",
       "      <td>0.0</td>\n",
       "      <td>8.0</td>\n",
       "      <td>8.0</td>\n",
       "      <td>0.0</td>\n",
       "      <td>0.0</td>\n",
       "      <td>0.0</td>\n",
       "      <td>0.0</td>\n",
       "      <td>0.0</td>\n",
       "      <td>...</td>\n",
       "      <td>0.0</td>\n",
       "      <td>0.0</td>\n",
       "      <td>0.00</td>\n",
       "      <td>0.0</td>\n",
       "      <td>0.0</td>\n",
       "      <td>0.0</td>\n",
       "      <td>0.0</td>\n",
       "      <td>0.0</td>\n",
       "      <td>0.0</td>\n",
       "      <td>0.00</td>\n",
       "    </tr>\n",
       "    <tr>\n",
       "      <th>1</th>\n",
       "      <td>13.67</td>\n",
       "      <td>0.00</td>\n",
       "      <td>0.0</td>\n",
       "      <td>0.0</td>\n",
       "      <td>0.0</td>\n",
       "      <td>0.0</td>\n",
       "      <td>0.0</td>\n",
       "      <td>0.0</td>\n",
       "      <td>0.0</td>\n",
       "      <td>0.0</td>\n",
       "      <td>...</td>\n",
       "      <td>0.0</td>\n",
       "      <td>0.0</td>\n",
       "      <td>20.51</td>\n",
       "      <td>0.0</td>\n",
       "      <td>0.0</td>\n",
       "      <td>0.0</td>\n",
       "      <td>0.0</td>\n",
       "      <td>0.0</td>\n",
       "      <td>0.0</td>\n",
       "      <td>0.00</td>\n",
       "    </tr>\n",
       "    <tr>\n",
       "      <th>2</th>\n",
       "      <td>12.64</td>\n",
       "      <td>0.00</td>\n",
       "      <td>0.0</td>\n",
       "      <td>0.0</td>\n",
       "      <td>0.0</td>\n",
       "      <td>0.0</td>\n",
       "      <td>0.0</td>\n",
       "      <td>0.0</td>\n",
       "      <td>0.0</td>\n",
       "      <td>0.0</td>\n",
       "      <td>...</td>\n",
       "      <td>0.0</td>\n",
       "      <td>0.0</td>\n",
       "      <td>0.00</td>\n",
       "      <td>0.0</td>\n",
       "      <td>0.0</td>\n",
       "      <td>0.0</td>\n",
       "      <td>0.0</td>\n",
       "      <td>0.0</td>\n",
       "      <td>0.0</td>\n",
       "      <td>0.00</td>\n",
       "    </tr>\n",
       "    <tr>\n",
       "      <th>3</th>\n",
       "      <td>0.00</td>\n",
       "      <td>0.00</td>\n",
       "      <td>0.0</td>\n",
       "      <td>0.0</td>\n",
       "      <td>0.0</td>\n",
       "      <td>0.0</td>\n",
       "      <td>0.0</td>\n",
       "      <td>0.0</td>\n",
       "      <td>0.0</td>\n",
       "      <td>0.0</td>\n",
       "      <td>...</td>\n",
       "      <td>0.0</td>\n",
       "      <td>0.0</td>\n",
       "      <td>0.00</td>\n",
       "      <td>0.0</td>\n",
       "      <td>0.0</td>\n",
       "      <td>0.0</td>\n",
       "      <td>0.0</td>\n",
       "      <td>0.0</td>\n",
       "      <td>0.0</td>\n",
       "      <td>0.00</td>\n",
       "    </tr>\n",
       "    <tr>\n",
       "      <th>4</th>\n",
       "      <td>23.11</td>\n",
       "      <td>2.89</td>\n",
       "      <td>0.0</td>\n",
       "      <td>0.0</td>\n",
       "      <td>0.0</td>\n",
       "      <td>0.0</td>\n",
       "      <td>0.0</td>\n",
       "      <td>0.0</td>\n",
       "      <td>0.0</td>\n",
       "      <td>0.0</td>\n",
       "      <td>...</td>\n",
       "      <td>0.0</td>\n",
       "      <td>0.0</td>\n",
       "      <td>5.78</td>\n",
       "      <td>0.0</td>\n",
       "      <td>0.0</td>\n",
       "      <td>0.0</td>\n",
       "      <td>0.0</td>\n",
       "      <td>0.0</td>\n",
       "      <td>0.0</td>\n",
       "      <td>2.89</td>\n",
       "    </tr>\n",
       "    <tr>\n",
       "      <th>...</th>\n",
       "      <td>...</td>\n",
       "      <td>...</td>\n",
       "      <td>...</td>\n",
       "      <td>...</td>\n",
       "      <td>...</td>\n",
       "      <td>...</td>\n",
       "      <td>...</td>\n",
       "      <td>...</td>\n",
       "      <td>...</td>\n",
       "      <td>...</td>\n",
       "      <td>...</td>\n",
       "      <td>...</td>\n",
       "      <td>...</td>\n",
       "      <td>...</td>\n",
       "      <td>...</td>\n",
       "      <td>...</td>\n",
       "      <td>...</td>\n",
       "      <td>...</td>\n",
       "      <td>...</td>\n",
       "      <td>...</td>\n",
       "      <td>...</td>\n",
       "    </tr>\n",
       "    <tr>\n",
       "      <th>5495</th>\n",
       "      <td>0.00</td>\n",
       "      <td>0.00</td>\n",
       "      <td>0.0</td>\n",
       "      <td>0.0</td>\n",
       "      <td>0.0</td>\n",
       "      <td>0.0</td>\n",
       "      <td>0.0</td>\n",
       "      <td>0.0</td>\n",
       "      <td>0.0</td>\n",
       "      <td>0.0</td>\n",
       "      <td>...</td>\n",
       "      <td>0.0</td>\n",
       "      <td>0.0</td>\n",
       "      <td>0.00</td>\n",
       "      <td>0.0</td>\n",
       "      <td>0.0</td>\n",
       "      <td>0.0</td>\n",
       "      <td>0.0</td>\n",
       "      <td>0.0</td>\n",
       "      <td>0.0</td>\n",
       "      <td>0.00</td>\n",
       "    </tr>\n",
       "    <tr>\n",
       "      <th>5496</th>\n",
       "      <td>0.00</td>\n",
       "      <td>0.00</td>\n",
       "      <td>0.0</td>\n",
       "      <td>0.0</td>\n",
       "      <td>0.0</td>\n",
       "      <td>0.0</td>\n",
       "      <td>0.0</td>\n",
       "      <td>0.0</td>\n",
       "      <td>0.0</td>\n",
       "      <td>0.0</td>\n",
       "      <td>...</td>\n",
       "      <td>0.0</td>\n",
       "      <td>0.0</td>\n",
       "      <td>0.00</td>\n",
       "      <td>0.0</td>\n",
       "      <td>0.0</td>\n",
       "      <td>0.0</td>\n",
       "      <td>0.0</td>\n",
       "      <td>0.0</td>\n",
       "      <td>0.0</td>\n",
       "      <td>0.00</td>\n",
       "    </tr>\n",
       "    <tr>\n",
       "      <th>5497</th>\n",
       "      <td>0.00</td>\n",
       "      <td>0.00</td>\n",
       "      <td>0.0</td>\n",
       "      <td>0.0</td>\n",
       "      <td>0.0</td>\n",
       "      <td>0.0</td>\n",
       "      <td>0.0</td>\n",
       "      <td>0.0</td>\n",
       "      <td>0.0</td>\n",
       "      <td>0.0</td>\n",
       "      <td>...</td>\n",
       "      <td>0.0</td>\n",
       "      <td>0.0</td>\n",
       "      <td>0.00</td>\n",
       "      <td>0.0</td>\n",
       "      <td>0.0</td>\n",
       "      <td>0.0</td>\n",
       "      <td>0.0</td>\n",
       "      <td>0.0</td>\n",
       "      <td>0.0</td>\n",
       "      <td>0.00</td>\n",
       "    </tr>\n",
       "    <tr>\n",
       "      <th>5498</th>\n",
       "      <td>0.00</td>\n",
       "      <td>0.00</td>\n",
       "      <td>0.0</td>\n",
       "      <td>0.0</td>\n",
       "      <td>0.0</td>\n",
       "      <td>0.0</td>\n",
       "      <td>0.0</td>\n",
       "      <td>0.0</td>\n",
       "      <td>0.0</td>\n",
       "      <td>0.0</td>\n",
       "      <td>...</td>\n",
       "      <td>0.0</td>\n",
       "      <td>0.0</td>\n",
       "      <td>0.00</td>\n",
       "      <td>0.0</td>\n",
       "      <td>0.0</td>\n",
       "      <td>0.0</td>\n",
       "      <td>0.0</td>\n",
       "      <td>0.0</td>\n",
       "      <td>0.0</td>\n",
       "      <td>0.00</td>\n",
       "    </tr>\n",
       "    <tr>\n",
       "      <th>5499</th>\n",
       "      <td>0.00</td>\n",
       "      <td>0.00</td>\n",
       "      <td>0.0</td>\n",
       "      <td>0.0</td>\n",
       "      <td>0.0</td>\n",
       "      <td>0.0</td>\n",
       "      <td>0.0</td>\n",
       "      <td>0.0</td>\n",
       "      <td>0.0</td>\n",
       "      <td>0.0</td>\n",
       "      <td>...</td>\n",
       "      <td>0.0</td>\n",
       "      <td>0.0</td>\n",
       "      <td>0.00</td>\n",
       "      <td>0.0</td>\n",
       "      <td>0.0</td>\n",
       "      <td>0.0</td>\n",
       "      <td>0.0</td>\n",
       "      <td>0.0</td>\n",
       "      <td>0.0</td>\n",
       "      <td>0.00</td>\n",
       "    </tr>\n",
       "  </tbody>\n",
       "</table>\n",
       "<p>5500 rows × 800 columns</p>\n",
       "</div>"
      ],
      "text/plain": [
       "        0     1    2    3    4    5    6    7    8    9    ...  790  791  \\\n",
       "0      8.00  0.00  0.0  8.0  8.0  0.0  0.0  0.0  0.0  0.0  ...  0.0  0.0   \n",
       "1     13.67  0.00  0.0  0.0  0.0  0.0  0.0  0.0  0.0  0.0  ...  0.0  0.0   \n",
       "2     12.64  0.00  0.0  0.0  0.0  0.0  0.0  0.0  0.0  0.0  ...  0.0  0.0   \n",
       "3      0.00  0.00  0.0  0.0  0.0  0.0  0.0  0.0  0.0  0.0  ...  0.0  0.0   \n",
       "4     23.11  2.89  0.0  0.0  0.0  0.0  0.0  0.0  0.0  0.0  ...  0.0  0.0   \n",
       "...     ...   ...  ...  ...  ...  ...  ...  ...  ...  ...  ...  ...  ...   \n",
       "5495   0.00  0.00  0.0  0.0  0.0  0.0  0.0  0.0  0.0  0.0  ...  0.0  0.0   \n",
       "5496   0.00  0.00  0.0  0.0  0.0  0.0  0.0  0.0  0.0  0.0  ...  0.0  0.0   \n",
       "5497   0.00  0.00  0.0  0.0  0.0  0.0  0.0  0.0  0.0  0.0  ...  0.0  0.0   \n",
       "5498   0.00  0.00  0.0  0.0  0.0  0.0  0.0  0.0  0.0  0.0  ...  0.0  0.0   \n",
       "5499   0.00  0.00  0.0  0.0  0.0  0.0  0.0  0.0  0.0  0.0  ...  0.0  0.0   \n",
       "\n",
       "        792  793  794  795  796  797  798   799  \n",
       "0      0.00  0.0  0.0  0.0  0.0  0.0  0.0  0.00  \n",
       "1     20.51  0.0  0.0  0.0  0.0  0.0  0.0  0.00  \n",
       "2      0.00  0.0  0.0  0.0  0.0  0.0  0.0  0.00  \n",
       "3      0.00  0.0  0.0  0.0  0.0  0.0  0.0  0.00  \n",
       "4      5.78  0.0  0.0  0.0  0.0  0.0  0.0  2.89  \n",
       "...     ...  ...  ...  ...  ...  ...  ...   ...  \n",
       "5495   0.00  0.0  0.0  0.0  0.0  0.0  0.0  0.00  \n",
       "5496   0.00  0.0  0.0  0.0  0.0  0.0  0.0  0.00  \n",
       "5497   0.00  0.0  0.0  0.0  0.0  0.0  0.0  0.00  \n",
       "5498   0.00  0.0  0.0  0.0  0.0  0.0  0.0  0.00  \n",
       "5499   0.00  0.0  0.0  0.0  0.0  0.0  0.0  0.00  \n",
       "\n",
       "[5500 rows x 800 columns]"
      ]
     },
     "execution_count": 506,
     "metadata": {},
     "output_type": "execute_result"
    }
   ],
   "source": [
    "# Finally compute the TFxIDF values for each document-term entry\n",
    "TD_tfidf = train * IDF\n",
    "\n",
    "pd.set_option(\"display.precision\", 2)\n",
    "\n",
    "TD_tfidf"
   ]
  },
  {
   "cell_type": "markdown",
   "id": "643d9c42",
   "metadata": {},
   "source": [
    "Up until now this is all mostly from the notebooks and has just been about preprocessing and preparing the data"
   ]
  },
  {
   "cell_type": "markdown",
   "id": "3d016958",
   "metadata": {},
   "source": [
    "### KNN"
   ]
  },
  {
   "cell_type": "code",
   "execution_count": 507,
   "id": "316c4cf4",
   "metadata": {},
   "outputs": [],
   "source": [
    "\n",
    "\n",
    "def knn_search(x, D, K, measure):\n",
    "    \"\"\" find K nearest neighbors of an instance x among the instances in D \"\"\"\n",
    "    if measure == 0:\n",
    "        # euclidean distances from the other points\n",
    "        dists = np.sqrt(((D - x)**2).sum(axis=1))\n",
    "    elif measure == 1:\n",
    "        # first find the vector norm for each instance in D as wel as the norm for vector x\n",
    "        D_norm = np.array([np.linalg.norm(D[i]) for i in range(len(D))])\n",
    "        x_norm = np.linalg.norm(x)\n",
    "        # Compute Cosine: divide the dot product o x and each instance in D by the product of the two norms\n",
    "        sims = np.dot(D,x)/(D_norm * x_norm)\n",
    "        # The distance measure will be the inverse of Cosine similarity\n",
    "        dists = 1 - sims\n",
    "    idx = np.argsort(dists) # sorting\n",
    "    # return the indexes of K nearest neighbors\n",
    "    return idx[:K], dists\n",
    "\n",
    "def knn_classify(x,D,K,labels,measure):\n",
    "    from collections import Counter\n",
    "    neigh_idx, distances = knn_search(x,D,K,measure)\n",
    "    neigh_labels = labels[neigh_idx]\n",
    "    count = Counter(neigh_labels)\n",
    "    #print(\"labels for top\",K,\"neighbors: \", count)\n",
    "    predicted_label = count.most_common(1)[0][0]\n",
    "    return neigh_idx, predicted_label"
   ]
  },
  {
   "cell_type": "code",
   "execution_count": 508,
   "id": "f65c1fc7",
   "metadata": {},
   "outputs": [],
   "source": [
    "DTM_train = np.array(DT_train)\n",
    "DTM_test = np.array(DT_test)\n",
    "train_lab_array = np.array(train_lab).flatten()\n",
    "test_lab_array = np.array(test_lab).flatten()"
   ]
  },
  {
   "cell_type": "code",
   "execution_count": 509,
   "id": "2c713d22",
   "metadata": {},
   "outputs": [],
   "source": [
    "def knn_evaluate1(test, test_labels, train, train_labels, K,measure):\n",
    "    correct = 0\n",
    "    error = 0\n",
    "    #since the dataframes have been transposed, we compare rows by comparing 'columns' of the transposed matrix\n",
    "    for i in range(test.shape[0]):\n",
    "        top_K_neighbors, predicted_class = knn_classify(test[i], train,K, train_labels,measure)\n",
    "        if predicted_class == test_labels[i]:\n",
    "            correct += 1\n",
    "        else:\n",
    "            error += 1\n",
    "    final = correct/test.shape[0]\n",
    "    return final\n",
    "Euclid = []\n",
    "Cosine = []\n",
    "for i in range(5,105,5):\n",
    "    Cosine.append(knn_evaluate1(DTM_test,test_lab_array, DTM_train, train_lab_array,i,1))\n",
    "    Euclid.append(knn_evaluate1(DTM_test,test_lab_array, DTM_train, train_lab_array,i,0))"
   ]
  },
  {
   "cell_type": "code",
   "execution_count": 510,
   "id": "e5d2da74",
   "metadata": {
    "scrolled": true
   },
   "outputs": [
    {
     "data": {
      "image/png": "[encoded data removed]",
      "text/plain": [
       "<Figure size 640x480 with 1 Axes>"
      ]
     },
     "metadata": {},
     "output_type": "display_data"
    }
   ],
   "source": [
    "x = []\n",
    "for i in range(5,105,5):\n",
    "    x.append(i)\n",
    "plt.plot(x, Cosine, label = \"Cosine\")\n",
    "plt.plot(x, Euclid, label = \"Euclid\")\n",
    "plt.ylabel(\"Percent Correct\")\n",
    "plt.xlabel(\"# of K Nearest Neighbors\")\n",
    "plt.grid(True)\n",
    "plt.legend(loc = 'center right')\n",
    "plt.title(\"Comparing KNN Cosine and Euclid Distances\")\n",
    "plt.ylim(0,1.0)\n",
    "plt.show()"
   ]
  },
  {
   "cell_type": "markdown",
   "id": "7f005269",
   "metadata": {},
   "source": [
    "While Cosine distance is clearly more accurate here, what's also interesting is that it's a lot more stable regardless of how many neighbors we use for KNN. From 5-100, Cosine distance holds over 95% whereas there is a big decline for Euclidean distance. This is because Cosine is looking at the angle. Therefore, the magnitude of the vector is not considered in Cosine distance. From a post on linkdin I found this explanation: \"This is because count frequency of identical texts do not necessarily imply closeness between documents. Here, we are more concerned about orientation/direction and not magnitude... even if one of these words occur a lot in a certain document, as compared to others, orientation achieves better semantic similarity than a pure distance measure. In this case, Cosine similarity will yield a more congruent result over Euclidean distance.\" https://www.linkedin.com/pulse/similarity-measures-data-science-euclidean-distance-cosine-wynn/\n",
    "\n",
    "I also changed the scale of y axis because by default it made euclidean distance look a lot worse than it actually is."
   ]
  },
  {
   "cell_type": "code",
   "execution_count": 511,
   "id": "215932e6",
   "metadata": {},
   "outputs": [],
   "source": [
    "DT_tfidf = TD_tfidf.T #transpose the matrix #this is training\n",
    "DT_array = np.array(DT_tfidf) #turn matrix into an array\n",
    "#can ignore/comment out/delete the previous cell where the original train matrix was turned to DT_train\n",
    "DT_tfidf_test=IDF.T[0]*DTM_test\n",
    "\n",
    "CosineIDF = []\n",
    "\n",
    "for i in range(5,105,5):\n",
    "    xx = (knn_evaluate1(DT_tfidf_test,test_lab_array, DT_array, train_lab_array,i,1))\n",
    "    CosineIDF.append(xx)"
   ]
  },
  {
   "cell_type": "code",
   "execution_count": 512,
   "id": "b9aa513c",
   "metadata": {},
   "outputs": [
    {
     "data": {
      "image/png": "[encoded data removed]",
      "text/plain": [
       "<Figure size 640x480 with 1 Axes>"
      ]
     },
     "metadata": {},
     "output_type": "display_data"
    }
   ],
   "source": [
    "x = []\n",
    "for i in range(5,105,5):\n",
    "    x.append(i)\n",
    "plt.plot(x, Cosine, label = \"Cosine\")\n",
    "plt.plot(x, CosineIDF, label = \"IDF\")\n",
    "plt.ylabel(\"Percent Correct\")\n",
    "plt.xlabel(\"# of K Nearest Neighbors\")\n",
    "plt.grid(True)\n",
    "plt.legend(loc = 'center right')\n",
    "plt.title(\"IDF COMPARISON\")\n",
    "plt.ylim(.90,1.0)\n",
    "plt.show()"
   ]
  },
  {
   "cell_type": "markdown",
   "id": "e22ccbf3",
   "metadata": {},
   "source": [
    "After modifying the data by converting to TFxIDF weights, KNN is more accurate. This makes sense because TFxIDF should make the more 'important' words more significant. Therefore the model should be more accurate."
   ]
  },
  {
   "cell_type": "markdown",
   "id": "c9be1c3c",
   "metadata": {},
   "source": [
    "### Rocchio"
   ]
  },
  {
   "cell_type": "code",
   "execution_count": 513,
   "id": "eeb01fb8",
   "metadata": {
    "scrolled": true
   },
   "outputs": [
    {
     "name": "stdout",
     "output_type": "stream",
     "text": [
      "{0: array([228.  ,  27.35,  31.61, ...,   8.64,  17.29,  17.29]), 1: array([180.  ,  47.86, 107.47, ...,   8.64,   0.  ,   0.  ])}\n"
     ]
    }
   ],
   "source": [
    "DT_array # weighted training data\n",
    "def rocchio_train(train,labels):\n",
    "    vector0 = np.zeros([5500])\n",
    "    vector1 = np.zeros([5500]) # initialize empty arrays to sum into \n",
    "    train_lab_array\n",
    "    for i in range(len(labels)):\n",
    "        if labels[i] == 0:\n",
    "            vector0 += train[i]\n",
    "        elif labels[i] == 1:\n",
    "            vector1 += train[i]\n",
    "\n",
    "    prototype = {0: vector0, 1: vector1}\n",
    "    return prototype \n",
    "\n",
    "print(rocchio_train(np.array(TD_tfidf.T),train_lab_array))"
   ]
  },
  {
   "cell_type": "code",
   "execution_count": 514,
   "id": "3e28060d",
   "metadata": {},
   "outputs": [
    {
     "data": {
      "text/plain": [
       "(1, {0: 0.06588891360651927, 1: 0.24264174551610884})"
      ]
     },
     "execution_count": 514,
     "metadata": {},
     "output_type": "execute_result"
    }
   ],
   "source": [
    "from numpy.linalg import norm\n",
    "def rocchio_classifier(prototype,instance):\n",
    "        \"\"\"This function will will compute cosine simularity between a vector and the two prototype vectors, then assign a predicted value to the vector\"\"\"\n",
    "        cosine0 = np.dot(prototype[0],instance)/(norm(prototype[0])*norm(instance))\n",
    "        cosine1 = np.dot(prototype[1],instance)/(norm(prototype[1])*norm(instance))\n",
    "        if cosine0 > cosine1:\n",
    "            predicted_label = 0\n",
    "        elif cosine1 > cosine0:\n",
    "            predicted_label = 1\n",
    "        else:\n",
    "            predicted_label = 0 #if the same just assign to 0 -- not sure if this is the right way to handle it but seems unlikely regardless\n",
    "        sims = {0:cosine0,1:cosine1}\n",
    "        return predicted_label, sims\n",
    "rocchio_classifier(rocchio_train(np.array(TD_tfidf.T),train_lab_array),DT_tfidf_test[0]) #test function"
   ]
  },
  {
   "cell_type": "code",
   "execution_count": 515,
   "id": "1293c7db",
   "metadata": {},
   "outputs": [
    {
     "data": {
      "text/plain": [
       "0.98"
      ]
     },
     "execution_count": 515,
     "metadata": {},
     "output_type": "execute_result"
    }
   ],
   "source": [
    "def rocchio_evaluate(test, test_lab, prototype):\n",
    "    correct_rocchio = 0 #counter to count correct predictions\n",
    "    for i in range(len(test)):\n",
    "        if rocchio_classifier(prototype,test[i])[0] == test_lab[i]:\n",
    "            correct_rocchio += 1\n",
    "    accuracy = correct_rocchio/len(test)\n",
    "    \n",
    "    return accuracy\n",
    "    \n",
    "rocchio_evaluate(DT_tfidf_test,test_lab_array,rocchio_train(np.array(TD_tfidf.T),train_lab_array)) "
   ]
  },
  {
   "cell_type": "markdown",
   "id": "98e1060c",
   "metadata": {},
   "source": [
    "The rocchio evaluation shows rocchio was 98% correct with this dataset. "
   ]
  },
  {
   "cell_type": "code",
   "execution_count": 516,
   "id": "301c6fd1",
   "metadata": {},
   "outputs": [
    {
     "data": {
      "image/png": "[encoded data removed]",
      "text/plain": [
       "<Figure size 640x480 with 1 Axes>"
      ]
     },
     "metadata": {},
     "output_type": "display_data"
    }
   ],
   "source": [
    "x = []\n",
    "for i in range(5,105,5):\n",
    "    x.append(i)\n",
    "plt.axhline(rocchio_evaluate(DT_tfidf_test,test_lab_array,prototype), label = \"Rocchio\", color = 'red', linestyle = 'dashed')\n",
    "plt.plot(x, CosineIDF, label = \"IDF\", color = \"orange\")\n",
    "plt.ylabel(\"Percent Correct\")\n",
    "plt.xlabel(\"# of K Nearest Neighbors\")\n",
    "plt.grid(True)\n",
    "plt.legend(loc = 'center right')\n",
    "plt.title(\"Rocchio to KNN Comparison (Cosine Distance)\")\n",
    "plt.ylim(.94,1.0)\n",
    "plt.show()"
   ]
  },
  {
   "cell_type": "markdown",
   "id": "f55aa785",
   "metadata": {},
   "source": [
    "The TFxIDF KNN cosine distance prediction was more accurate. However, Rocchio is still extremely accurate at 98%. "
   ]
  },
  {
   "cell_type": "code",
   "execution_count": 517,
   "id": "3a09bd86",
   "metadata": {},
   "outputs": [
    {
     "data": {
      "text/plain": [
       "0.85"
      ]
     },
     "execution_count": 517,
     "metadata": {},
     "output_type": "execute_result"
    }
   ],
   "source": [
    "from sklearn.neighbors import NearestCentroid\n",
    "\n",
    "sklearnRocchioCorrect = 0\n",
    "\n",
    "clf = NearestCentroid()\n",
    "clf.fit(TD_tfidf.T,train_lab_array)\n",
    "NearestCentroid()\n",
    "predictions = clf.predict(DT_tfidf_test)\n",
    "\n",
    "for i in range(len(predictions)):\n",
    "    if predictions[i] == test_lab_array[i]:\n",
    "        sklearnRocchioCorrect += 1\n",
    "percentCorrect = sklearnRocchioCorrect/200\n",
    "percentCorrect"
   ]
  },
  {
   "cell_type": "markdown",
   "id": "1f202678",
   "metadata": {},
   "source": [
    "Comparing my rocchio to Sklearn, my rocchio was 98% whereas sklearn was 85%. At first I thought this was pretty concerning because I can't imagine I made a better function than sklearn so that is not an option. But from the documentation, the default metric is euclidean distance. Compared to the KNN with euclidean distance, this is pretty similar. Out of curiosity I'll try manhattan metric."
   ]
  },
  {
   "cell_type": "code",
   "execution_count": 519,
   "id": "da4f3407",
   "metadata": {},
   "outputs": [
    {
     "name": "stderr",
     "output_type": "stream",
     "text": [
      "C:\\Users\\19148\\anaconda3\\Lib\\site-packages\\sklearn\\neighbors\\_nearest_centroid.py:150: FutureWarning: Support for distance metrics other than euclidean and manhattan and for callables was deprecated in version 1.3 and will be removed in version 1.5.\n",
      "  warnings.warn(\n",
      "C:\\Users\\19148\\anaconda3\\Lib\\site-packages\\sklearn\\neighbors\\_nearest_centroid.py:201: UserWarning: Averaging for metrics other than euclidean and manhattan not supported. The average is set to be the mean.\n",
      "  warnings.warn(\n"
     ]
    },
    {
     "data": {
      "text/plain": [
       "0.98"
      ]
     },
     "execution_count": 519,
     "metadata": {},
     "output_type": "execute_result"
    }
   ],
   "source": [
    "sklearnRocchioCorrect_manhattan = 0\n",
    "\n",
    "clf = NearestCentroid(metric = 'manhattan')\n",
    "clf.fit(TD_tfidf.T,train_lab_array)\n",
    "NearestCentroid(metric = 'manhattan')\n",
    "predictionsManhattan = clf.predict(DT_tfidf_test)\n",
    "\n",
    "for i in range(len(predictionsManhattan)):\n",
    "    if predictionsManhattan[i] == test_lab_array[i]:\n",
    "        sklearnRocchioCorrect_manhattan += 1\n",
    "percentCorrectManhattan = sklearnRocchioCorrect_manhattan/200\n",
    "percentCorrectManhattan"
   ]
  },
  {
   "cell_type": "markdown",
   "id": "e7e30e5a",
   "metadata": {},
   "source": [
    "This is worse. I don't see an option for Cosine distance though"
   ]
  },
  {
   "cell_type": "code",
   "execution_count": 520,
   "id": "8ecadc07",
   "metadata": {},
   "outputs": [
    {
     "name": "stderr",
     "output_type": "stream",
     "text": [
      "C:\\Users\\19148\\anaconda3\\Lib\\site-packages\\sklearn\\neighbors\\_nearest_centroid.py:150: FutureWarning: Support for distance metrics other than euclidean and manhattan and for callables was deprecated in version 1.3 and will be removed in version 1.5.\n",
      "  warnings.warn(\n",
      "C:\\Users\\19148\\anaconda3\\Lib\\site-packages\\sklearn\\neighbors\\_nearest_centroid.py:201: UserWarning: Averaging for metrics other than euclidean and manhattan not supported. The average is set to be the mean.\n",
      "  warnings.warn(\n"
     ]
    },
    {
     "data": {
      "text/plain": [
       "0.98"
      ]
     },
     "execution_count": 520,
     "metadata": {},
     "output_type": "execute_result"
    }
   ],
   "source": [
    "sklearnRocchioCorrect_cosine = 0\n",
    "\n",
    "clf = NearestCentroid(metric = 'cosine')\n",
    "clf.fit(TD_tfidf.T,train_lab_array)\n",
    "NearestCentroid(metric = 'cosine')\n",
    "predictionsCosine = clf.predict(DT_tfidf_test)\n",
    "\n",
    "for i in range(len(predictionsCosine)):\n",
    "    if predictionsCosine[i] == test_lab_array[i]:\n",
    "        sklearnRocchioCorrect_cosine += 1\n",
    "percentCorrectCosine = sklearnRocchioCorrect_cosine/200\n",
    "percentCorrectCosine"
   ]
  },
  {
   "cell_type": "markdown",
   "id": "6b3a2b50",
   "metadata": {},
   "source": [
    "I wanted to just see if cosine was a metric and it is. Both my rocchio and sklearn using cosine is 98%. "
   ]
  }
 ],
 "metadata": {
  "kernelspec": {
   "display_name": "Python 3 (ipykernel)",
   "language": "python",
   "name": "python3"
  },
  "language_info": {
   "codemirror_mode": {
    "name": "ipython",
    "version": 3
   },
   "file_extension": ".py",
   "mimetype": "text/x-python",
   "name": "python",
   "nbconvert_exporter": "python",
   "pygments_lexer": "ipython3",
   "version": "3.11.5"
  }
 },
 "nbformat": 4,
 "nbformat_minor": 5
}
